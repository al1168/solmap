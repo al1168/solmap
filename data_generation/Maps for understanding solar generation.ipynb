{
 "cells": [
  {
   "cell_type": "markdown",
   "id": "f3401cb1",
   "metadata": {},
   "source": [
    "# Setup"
   ]
  },
  {
   "cell_type": "code",
   "execution_count": 1,
   "id": "e4e6deca",
   "metadata": {
    "ExecuteTime": {
     "end_time": "2024-11-16T01:23:26.523934Z",
     "start_time": "2024-11-16T01:22:50.167636Z"
    },
    "execution": {
     "iopub.execute_input": "2024-11-16T03:17:39.360601Z",
     "iopub.status.busy": "2024-11-16T03:17:39.360410Z",
     "iopub.status.idle": "2024-11-16T03:17:41.347680Z",
     "shell.execute_reply": "2024-11-16T03:17:41.347311Z",
     "shell.execute_reply.started": "2024-11-16T03:17:39.360578Z"
    }
   },
   "outputs": [
    {
     "name": "stdout",
     "output_type": "stream",
     "text": [
      "Intel MKL WARNING: Support of Intel(R) Streaming SIMD Extensions 4.2 (Intel(R) SSE4.2) enabled only processors has been deprecated. Intel oneAPI Math Kernel Library 2025.0 will require Intel(R) Advanced Vector Extensions (Intel(R) AVX) instructions.\n",
      "Intel MKL WARNING: Support of Intel(R) Streaming SIMD Extensions 4.2 (Intel(R) SSE4.2) enabled only processors has been deprecated. Intel oneAPI Math Kernel Library 2025.0 will require Intel(R) Advanced Vector Extensions (Intel(R) AVX) instructions.\n"
     ]
    }
   ],
   "source": [
    "import matplotlib.pyplot as plt\n",
    "import seaborn as sns\n",
    "import warnings\n",
    "import json\n",
    "import numpy as np\n",
    "import pandas as pd\n",
    "import pvlib\n",
    "import pytz\n",
    "import folium\n",
    "import geopy.distance\n",
    "from dotenv import load_dotenv\n",
    "import os"
   ]
  },
  {
   "cell_type": "code",
   "execution_count": 2,
   "id": "4f14974d",
   "metadata": {
    "ExecuteTime": {
     "end_time": "2024-11-16T01:23:26.529494Z",
     "start_time": "2024-11-16T01:23:26.527481Z"
    },
    "execution": {
     "iopub.execute_input": "2024-11-16T03:17:41.348536Z",
     "iopub.status.busy": "2024-11-16T03:17:41.348320Z",
     "iopub.status.idle": "2024-11-16T03:17:41.350856Z",
     "shell.execute_reply": "2024-11-16T03:17:41.350593Z",
     "shell.execute_reply.started": "2024-11-16T03:17:41.348524Z"
    }
   },
   "outputs": [],
   "source": [
    "load_dotenv()\n",
    "NREL_API_KEY = os.getenv(\"NREL_API_KEY\")\n",
    "NREL_API_EMAIL = os.getenv(\"NREL_API_EMAIL\")"
   ]
  },
  {
   "cell_type": "code",
   "execution_count": 3,
   "id": "f91cdf29-0e02-4b85-bd45-b4a2261d432f",
   "metadata": {
    "execution": {
     "iopub.execute_input": "2024-11-16T03:17:41.352452Z",
     "iopub.status.busy": "2024-11-16T03:17:41.352328Z",
     "iopub.status.idle": "2024-11-16T03:17:41.368974Z",
     "shell.execute_reply": "2024-11-16T03:17:41.368301Z",
     "shell.execute_reply.started": "2024-11-16T03:17:41.352441Z"
    }
   },
   "outputs": [],
   "source": [
    "import sys\n",
    "sys.path.append('/Users/andrebach/code/solmap')\n",
    "%load_ext autoreload\n",
    "%autoreload 2"
   ]
  },
  {
   "cell_type": "code",
   "execution_count": 4,
   "id": "aea88b25-eed0-4007-bc62-ac641c080fe7",
   "metadata": {
    "execution": {
     "iopub.execute_input": "2024-11-16T03:17:41.369659Z",
     "iopub.status.busy": "2024-11-16T03:17:41.369542Z",
     "iopub.status.idle": "2024-11-16T03:17:41.403600Z",
     "shell.execute_reply": "2024-11-16T03:17:41.403231Z",
     "shell.execute_reply.started": "2024-11-16T03:17:41.369647Z"
    }
   },
   "outputs": [],
   "source": [
    "import data_generation"
   ]
  },
  {
   "cell_type": "markdown",
   "id": "5c24b527",
   "metadata": {},
   "source": [
    "# Run it"
   ]
  },
  {
   "cell_type": "code",
   "execution_count": 5,
   "id": "f2f81527",
   "metadata": {
    "ExecuteTime": {
     "end_time": "2024-11-16T01:23:29.079588Z",
     "start_time": "2024-11-16T01:23:26.603196Z"
    },
    "execution": {
     "iopub.execute_input": "2024-11-16T03:17:41.404254Z",
     "iopub.status.busy": "2024-11-16T03:17:41.404126Z",
     "iopub.status.idle": "2024-11-16T03:17:43.728748Z",
     "shell.execute_reply": "2024-11-16T03:17:43.728202Z",
     "shell.execute_reply.started": "2024-11-16T03:17:41.404241Z"
    }
   },
   "outputs": [],
   "source": [
    "solar_weather_timeseries, solar_weather_metadata = pvlib.iotools.get_psm3(\n",
    "    latitude=data_generation.geometry.LAT_SAN_FRANCISCO,\n",
    "    longitude=data_generation.geometry.LON_SAN_FRANCISCO,\n",
    "    names=2019,\n",
    "    leap_day=False,\n",
    "    attributes=data_generation.solar.SOLAR_WEATHER_ATTRIBUTES,\n",
    "    map_variables=True,\n",
    "    api_key=NREL_API_KEY,\n",
    "    email=NREL_API_EMAIL,\n",
    ")"
   ]
  },
  {
   "cell_type": "code",
   "execution_count": 6,
   "id": "2e84b83c",
   "metadata": {
    "ExecuteTime": {
     "end_time": "2024-11-16T01:23:29.101307Z",
     "start_time": "2024-11-16T01:23:29.080676Z"
    },
    "execution": {
     "iopub.execute_input": "2024-11-16T03:17:43.729393Z",
     "iopub.status.busy": "2024-11-16T03:17:43.729259Z",
     "iopub.status.idle": "2024-11-16T03:17:43.757032Z",
     "shell.execute_reply": "2024-11-16T03:17:43.756785Z",
     "shell.execute_reply.started": "2024-11-16T03:17:43.729379Z"
    }
   },
   "outputs": [
    {
     "data": {
      "text/html": [
       "<div>\n",
       "<style scoped>\n",
       "    .dataframe tbody tr th:only-of-type {\n",
       "        vertical-align: middle;\n",
       "    }\n",
       "\n",
       "    .dataframe tbody tr th {\n",
       "        vertical-align: top;\n",
       "    }\n",
       "\n",
       "    .dataframe thead th {\n",
       "        text-align: right;\n",
       "    }\n",
       "</style>\n",
       "<table border=\"1\" class=\"dataframe\">\n",
       "  <thead>\n",
       "    <tr style=\"text-align: right;\">\n",
       "      <th></th>\n",
       "      <th>Year</th>\n",
       "      <th>Month</th>\n",
       "      <th>Day</th>\n",
       "      <th>Hour</th>\n",
       "      <th>Minute</th>\n",
       "      <th>temp_air</th>\n",
       "      <th>temp_dew</th>\n",
       "      <th>dhi</th>\n",
       "      <th>dhi_clear</th>\n",
       "      <th>dni</th>\n",
       "      <th>dni_clear</th>\n",
       "      <th>ghi</th>\n",
       "      <th>ghi_clear</th>\n",
       "      <th>albedo</th>\n",
       "      <th>pressure</th>\n",
       "      <th>wind_direction</th>\n",
       "      <th>wind_speed</th>\n",
       "    </tr>\n",
       "  </thead>\n",
       "  <tbody>\n",
       "    <tr>\n",
       "      <th>2019-01-01 07:30:00-08:00</th>\n",
       "      <td>2019</td>\n",
       "      <td>1</td>\n",
       "      <td>1</td>\n",
       "      <td>7</td>\n",
       "      <td>30</td>\n",
       "      <td>4.2</td>\n",
       "      <td>-1.7</td>\n",
       "      <td>10.0</td>\n",
       "      <td>10.0</td>\n",
       "      <td>153.0</td>\n",
       "      <td>153.0</td>\n",
       "      <td>11.0</td>\n",
       "      <td>11.0</td>\n",
       "      <td>0.1</td>\n",
       "      <td>1020.0</td>\n",
       "      <td>33.0</td>\n",
       "      <td>3.2</td>\n",
       "    </tr>\n",
       "    <tr>\n",
       "      <th>2019-01-01 08:30:00-08:00</th>\n",
       "      <td>2019</td>\n",
       "      <td>1</td>\n",
       "      <td>1</td>\n",
       "      <td>8</td>\n",
       "      <td>30</td>\n",
       "      <td>6.0</td>\n",
       "      <td>-1.3</td>\n",
       "      <td>38.0</td>\n",
       "      <td>34.0</td>\n",
       "      <td>641.0</td>\n",
       "      <td>698.0</td>\n",
       "      <td>148.0</td>\n",
       "      <td>153.0</td>\n",
       "      <td>0.1</td>\n",
       "      <td>1021.0</td>\n",
       "      <td>37.0</td>\n",
       "      <td>3.4</td>\n",
       "    </tr>\n",
       "    <tr>\n",
       "      <th>2019-01-01 09:30:00-08:00</th>\n",
       "      <td>2019</td>\n",
       "      <td>1</td>\n",
       "      <td>1</td>\n",
       "      <td>9</td>\n",
       "      <td>30</td>\n",
       "      <td>7.8</td>\n",
       "      <td>-2.1</td>\n",
       "      <td>47.0</td>\n",
       "      <td>47.0</td>\n",
       "      <td>851.0</td>\n",
       "      <td>851.0</td>\n",
       "      <td>313.0</td>\n",
       "      <td>313.0</td>\n",
       "      <td>0.1</td>\n",
       "      <td>1021.0</td>\n",
       "      <td>40.0</td>\n",
       "      <td>3.2</td>\n",
       "    </tr>\n",
       "    <tr>\n",
       "      <th>2019-01-01 10:30:00-08:00</th>\n",
       "      <td>2019</td>\n",
       "      <td>1</td>\n",
       "      <td>1</td>\n",
       "      <td>10</td>\n",
       "      <td>30</td>\n",
       "      <td>9.4</td>\n",
       "      <td>-3.1</td>\n",
       "      <td>57.0</td>\n",
       "      <td>57.0</td>\n",
       "      <td>913.0</td>\n",
       "      <td>913.0</td>\n",
       "      <td>437.0</td>\n",
       "      <td>437.0</td>\n",
       "      <td>0.1</td>\n",
       "      <td>1021.0</td>\n",
       "      <td>38.0</td>\n",
       "      <td>2.6</td>\n",
       "    </tr>\n",
       "    <tr>\n",
       "      <th>2019-01-01 11:30:00-08:00</th>\n",
       "      <td>2019</td>\n",
       "      <td>1</td>\n",
       "      <td>1</td>\n",
       "      <td>11</td>\n",
       "      <td>30</td>\n",
       "      <td>10.7</td>\n",
       "      <td>-4.2</td>\n",
       "      <td>60.0</td>\n",
       "      <td>60.0</td>\n",
       "      <td>942.0</td>\n",
       "      <td>942.0</td>\n",
       "      <td>508.0</td>\n",
       "      <td>508.0</td>\n",
       "      <td>0.1</td>\n",
       "      <td>1020.0</td>\n",
       "      <td>28.0</td>\n",
       "      <td>2.1</td>\n",
       "    </tr>\n",
       "    <tr>\n",
       "      <th>2019-01-01 12:30:00-08:00</th>\n",
       "      <td>2019</td>\n",
       "      <td>1</td>\n",
       "      <td>1</td>\n",
       "      <td>12</td>\n",
       "      <td>30</td>\n",
       "      <td>11.6</td>\n",
       "      <td>-4.9</td>\n",
       "      <td>62.0</td>\n",
       "      <td>62.0</td>\n",
       "      <td>943.0</td>\n",
       "      <td>943.0</td>\n",
       "      <td>521.0</td>\n",
       "      <td>521.0</td>\n",
       "      <td>0.1</td>\n",
       "      <td>1020.0</td>\n",
       "      <td>17.0</td>\n",
       "      <td>2.1</td>\n",
       "    </tr>\n",
       "    <tr>\n",
       "      <th>2019-01-01 13:30:00-08:00</th>\n",
       "      <td>2019</td>\n",
       "      <td>1</td>\n",
       "      <td>1</td>\n",
       "      <td>13</td>\n",
       "      <td>30</td>\n",
       "      <td>12.0</td>\n",
       "      <td>-4.9</td>\n",
       "      <td>60.0</td>\n",
       "      <td>60.0</td>\n",
       "      <td>920.0</td>\n",
       "      <td>920.0</td>\n",
       "      <td>473.0</td>\n",
       "      <td>473.0</td>\n",
       "      <td>0.1</td>\n",
       "      <td>1020.0</td>\n",
       "      <td>12.0</td>\n",
       "      <td>2.1</td>\n",
       "    </tr>\n",
       "    <tr>\n",
       "      <th>2019-01-01 14:30:00-08:00</th>\n",
       "      <td>2019</td>\n",
       "      <td>1</td>\n",
       "      <td>1</td>\n",
       "      <td>14</td>\n",
       "      <td>30</td>\n",
       "      <td>12.0</td>\n",
       "      <td>-4.6</td>\n",
       "      <td>59.0</td>\n",
       "      <td>56.0</td>\n",
       "      <td>807.0</td>\n",
       "      <td>856.0</td>\n",
       "      <td>353.0</td>\n",
       "      <td>368.0</td>\n",
       "      <td>0.1</td>\n",
       "      <td>1020.0</td>\n",
       "      <td>14.0</td>\n",
       "      <td>1.8</td>\n",
       "    </tr>\n",
       "    <tr>\n",
       "      <th>2019-01-01 15:30:00-08:00</th>\n",
       "      <td>2019</td>\n",
       "      <td>1</td>\n",
       "      <td>1</td>\n",
       "      <td>15</td>\n",
       "      <td>30</td>\n",
       "      <td>11.8</td>\n",
       "      <td>-2.3</td>\n",
       "      <td>64.0</td>\n",
       "      <td>47.0</td>\n",
       "      <td>523.0</td>\n",
       "      <td>734.0</td>\n",
       "      <td>189.0</td>\n",
       "      <td>222.0</td>\n",
       "      <td>0.1</td>\n",
       "      <td>1020.0</td>\n",
       "      <td>16.0</td>\n",
       "      <td>1.5</td>\n",
       "    </tr>\n",
       "  </tbody>\n",
       "</table>\n",
       "</div>"
      ],
      "text/plain": [
       "                           Year  Month  Day  Hour  Minute  temp_air  temp_dew  \\\n",
       "2019-01-01 07:30:00-08:00  2019      1    1     7      30       4.2      -1.7   \n",
       "2019-01-01 08:30:00-08:00  2019      1    1     8      30       6.0      -1.3   \n",
       "2019-01-01 09:30:00-08:00  2019      1    1     9      30       7.8      -2.1   \n",
       "2019-01-01 10:30:00-08:00  2019      1    1    10      30       9.4      -3.1   \n",
       "2019-01-01 11:30:00-08:00  2019      1    1    11      30      10.7      -4.2   \n",
       "2019-01-01 12:30:00-08:00  2019      1    1    12      30      11.6      -4.9   \n",
       "2019-01-01 13:30:00-08:00  2019      1    1    13      30      12.0      -4.9   \n",
       "2019-01-01 14:30:00-08:00  2019      1    1    14      30      12.0      -4.6   \n",
       "2019-01-01 15:30:00-08:00  2019      1    1    15      30      11.8      -2.3   \n",
       "\n",
       "                            dhi  dhi_clear    dni  dni_clear    ghi  \\\n",
       "2019-01-01 07:30:00-08:00  10.0       10.0  153.0      153.0   11.0   \n",
       "2019-01-01 08:30:00-08:00  38.0       34.0  641.0      698.0  148.0   \n",
       "2019-01-01 09:30:00-08:00  47.0       47.0  851.0      851.0  313.0   \n",
       "2019-01-01 10:30:00-08:00  57.0       57.0  913.0      913.0  437.0   \n",
       "2019-01-01 11:30:00-08:00  60.0       60.0  942.0      942.0  508.0   \n",
       "2019-01-01 12:30:00-08:00  62.0       62.0  943.0      943.0  521.0   \n",
       "2019-01-01 13:30:00-08:00  60.0       60.0  920.0      920.0  473.0   \n",
       "2019-01-01 14:30:00-08:00  59.0       56.0  807.0      856.0  353.0   \n",
       "2019-01-01 15:30:00-08:00  64.0       47.0  523.0      734.0  189.0   \n",
       "\n",
       "                           ghi_clear  albedo  pressure  wind_direction  \\\n",
       "2019-01-01 07:30:00-08:00       11.0     0.1    1020.0            33.0   \n",
       "2019-01-01 08:30:00-08:00      153.0     0.1    1021.0            37.0   \n",
       "2019-01-01 09:30:00-08:00      313.0     0.1    1021.0            40.0   \n",
       "2019-01-01 10:30:00-08:00      437.0     0.1    1021.0            38.0   \n",
       "2019-01-01 11:30:00-08:00      508.0     0.1    1020.0            28.0   \n",
       "2019-01-01 12:30:00-08:00      521.0     0.1    1020.0            17.0   \n",
       "2019-01-01 13:30:00-08:00      473.0     0.1    1020.0            12.0   \n",
       "2019-01-01 14:30:00-08:00      368.0     0.1    1020.0            14.0   \n",
       "2019-01-01 15:30:00-08:00      222.0     0.1    1020.0            16.0   \n",
       "\n",
       "                           wind_speed  \n",
       "2019-01-01 07:30:00-08:00         3.2  \n",
       "2019-01-01 08:30:00-08:00         3.4  \n",
       "2019-01-01 09:30:00-08:00         3.2  \n",
       "2019-01-01 10:30:00-08:00         2.6  \n",
       "2019-01-01 11:30:00-08:00         2.1  \n",
       "2019-01-01 12:30:00-08:00         2.1  \n",
       "2019-01-01 13:30:00-08:00         2.1  \n",
       "2019-01-01 14:30:00-08:00         1.8  \n",
       "2019-01-01 15:30:00-08:00         1.5  "
      ]
     },
     "execution_count": 6,
     "metadata": {},
     "output_type": "execute_result"
    }
   ],
   "source": [
    "solar_weather_timeseries.query(\"Month == 1 and Day == 1 and 7 <= Hour <= 15\")"
   ]
  },
  {
   "cell_type": "code",
   "execution_count": 7,
   "id": "c725e4fa",
   "metadata": {
    "ExecuteTime": {
     "end_time": "2024-11-16T01:23:33.851392Z",
     "start_time": "2024-11-16T01:23:33.834742Z"
    },
    "execution": {
     "iopub.execute_input": "2024-11-16T03:17:43.757771Z",
     "iopub.status.busy": "2024-11-16T03:17:43.757620Z",
     "iopub.status.idle": "2024-11-16T03:17:44.191569Z",
     "shell.execute_reply": "2024-11-16T03:17:44.191224Z",
     "shell.execute_reply.started": "2024-11-16T03:17:43.757760Z"
    }
   },
   "outputs": [
    {
     "name": "stdout",
     "output_type": "stream",
     "text": [
      "i = 0\n"
     ]
    }
   ],
   "source": [
    "congressional_summary_df = data_generation.geometry.load_congresional_district_points(limit=10)"
   ]
  },
  {
   "cell_type": "code",
   "execution_count": 8,
   "id": "28a72e99-11a2-4c9d-a076-c46648569522",
   "metadata": {
    "execution": {
     "iopub.execute_input": "2024-11-16T03:17:44.192162Z",
     "iopub.status.busy": "2024-11-16T03:17:44.192060Z",
     "iopub.status.idle": "2024-11-16T03:18:04.006829Z",
     "shell.execute_reply": "2024-11-16T03:18:04.006513Z",
     "shell.execute_reply.started": "2024-11-16T03:17:44.192152Z"
    }
   },
   "outputs": [
    {
     "name": "stdout",
     "output_type": "stream",
     "text": [
      "i = 0\n",
      "Saved to generation_2024_11_15T19_18_04_003266.csv\n"
     ]
    }
   ],
   "source": [
    "generation_df = data_generation.solar.generate_values_at_points(congressional_summary_df)"
   ]
  },
  {
   "cell_type": "code",
   "execution_count": 9,
   "id": "c1597bc7-bf87-4393-a1ec-8cd951246e07",
   "metadata": {
    "execution": {
     "iopub.execute_input": "2024-11-16T03:18:04.007535Z",
     "iopub.status.busy": "2024-11-16T03:18:04.007427Z",
     "iopub.status.idle": "2024-11-16T03:18:04.021155Z",
     "shell.execute_reply": "2024-11-16T03:18:04.020771Z",
     "shell.execute_reply.started": "2024-11-16T03:18:04.007525Z"
    }
   },
   "outputs": [],
   "source": [
    "ncolors = 20\n",
    "palette = sns.color_palette(\"flare_r\", ncolors)\n",
    "hex_colors = palette.as_hex()\n",
    "vmin = generation_df.generation.min()\n",
    "vmax = generation_df.generation.max()\n",
    "vrange = vmax - vmin\n",
    "generation_df[\"color\"] = generation_df.generation.apply(\n",
    "    lambda x: hex_colors[int((ncolors - 1) * (x - vmin) / vrange)]\n",
    ")"
   ]
  },
  {
   "cell_type": "code",
   "execution_count": 10,
   "id": "f4473c8a-574c-4947-bc18-a30d292995b1",
   "metadata": {
    "execution": {
     "iopub.execute_input": "2024-11-16T03:18:04.021814Z",
     "iopub.status.busy": "2024-11-16T03:18:04.021702Z",
     "iopub.status.idle": "2024-11-16T03:18:04.043185Z",
     "shell.execute_reply": "2024-11-16T03:18:04.042889Z",
     "shell.execute_reply.started": "2024-11-16T03:18:04.021804Z"
    }
   },
   "outputs": [
    {
     "data": {
      "text/html": [
       "<div style=\"width:100%;\"><div style=\"position:relative;width:100%;height:0;padding-bottom:60%;\"><span style=\"color:#565656\">Make this Notebook Trusted to load map: File -> Trust Notebook</span><iframe srcdoc=\"&lt;!DOCTYPE html&gt;\n",
       "&lt;html&gt;\n",
       "&lt;head&gt;\n",
       "    \n",
       "    &lt;meta http-equiv=&quot;content-type&quot; content=&quot;text/html; charset=UTF-8&quot; /&gt;\n",
       "    \n",
       "        &lt;script&gt;\n",
       "            L_NO_TOUCH = false;\n",
       "            L_DISABLE_3D = false;\n",
       "        &lt;/script&gt;\n",
       "    \n",
       "    &lt;style&gt;html, body {width: 100%;height: 100%;margin: 0;padding: 0;}&lt;/style&gt;\n",
       "    &lt;style&gt;#map {position:absolute;top:0;bottom:0;right:0;left:0;}&lt;/style&gt;\n",
       "    &lt;script src=&quot;https://cdn.jsdelivr.net/npm/leaflet@1.9.3/dist/leaflet.js&quot;&gt;&lt;/script&gt;\n",
       "    &lt;script src=&quot;https://code.jquery.com/jquery-1.12.4.min.js&quot;&gt;&lt;/script&gt;\n",
       "    &lt;script src=&quot;https://cdn.jsdelivr.net/npm/bootstrap@5.2.2/dist/js/bootstrap.bundle.min.js&quot;&gt;&lt;/script&gt;\n",
       "    &lt;script src=&quot;https://cdnjs.cloudflare.com/ajax/libs/Leaflet.awesome-markers/2.0.2/leaflet.awesome-markers.js&quot;&gt;&lt;/script&gt;\n",
       "    &lt;link rel=&quot;stylesheet&quot; href=&quot;https://cdn.jsdelivr.net/npm/leaflet@1.9.3/dist/leaflet.css&quot;/&gt;\n",
       "    &lt;link rel=&quot;stylesheet&quot; href=&quot;https://cdn.jsdelivr.net/npm/bootstrap@5.2.2/dist/css/bootstrap.min.css&quot;/&gt;\n",
       "    &lt;link rel=&quot;stylesheet&quot; href=&quot;https://netdna.bootstrapcdn.com/bootstrap/3.0.0/css/bootstrap.min.css&quot;/&gt;\n",
       "    &lt;link rel=&quot;stylesheet&quot; href=&quot;https://cdn.jsdelivr.net/npm/@fortawesome/fontawesome-free@6.2.0/css/all.min.css&quot;/&gt;\n",
       "    &lt;link rel=&quot;stylesheet&quot; href=&quot;https://cdnjs.cloudflare.com/ajax/libs/Leaflet.awesome-markers/2.0.2/leaflet.awesome-markers.css&quot;/&gt;\n",
       "    &lt;link rel=&quot;stylesheet&quot; href=&quot;https://cdn.jsdelivr.net/gh/python-visualization/folium/folium/templates/leaflet.awesome.rotate.min.css&quot;/&gt;\n",
       "    \n",
       "            &lt;meta name=&quot;viewport&quot; content=&quot;width=device-width,\n",
       "                initial-scale=1.0, maximum-scale=1.0, user-scalable=no&quot; /&gt;\n",
       "            &lt;style&gt;\n",
       "                #map_c52c380987e93ed9267fadd9c14835be {\n",
       "                    position: relative;\n",
       "                    width: 1083.0px;\n",
       "                    height: 650.0px;\n",
       "                    left: 0.0%;\n",
       "                    top: 0.0%;\n",
       "                }\n",
       "                .leaflet-container { font-size: 1rem; }\n",
       "            &lt;/style&gt;\n",
       "        \n",
       "&lt;/head&gt;\n",
       "&lt;body&gt;\n",
       "    \n",
       "    \n",
       "            &lt;div class=&quot;folium-map&quot; id=&quot;map_c52c380987e93ed9267fadd9c14835be&quot; &gt;&lt;/div&gt;\n",
       "        \n",
       "&lt;/body&gt;\n",
       "&lt;script&gt;\n",
       "    \n",
       "    \n",
       "            var map_c52c380987e93ed9267fadd9c14835be = L.map(\n",
       "                &quot;map_c52c380987e93ed9267fadd9c14835be&quot;,\n",
       "                {\n",
       "                    center: [35.03103442049413, -110.39496348071177],\n",
       "                    crs: L.CRS.EPSG3857,\n",
       "                    zoom: 4,\n",
       "                    zoomControl: true,\n",
       "                    preferCanvas: false,\n",
       "                }\n",
       "            );\n",
       "\n",
       "            \n",
       "\n",
       "        \n",
       "    \n",
       "            var tile_layer_efb9eb4eb4088ae029f95fb021e0e02d = L.tileLayer(\n",
       "                &quot;https://{s}.tile.openstreetmap.org/{z}/{x}/{y}.png&quot;,\n",
       "                {&quot;attribution&quot;: &quot;Data by \\u0026copy; \\u003ca target=\\&quot;_blank\\&quot; href=\\&quot;http://openstreetmap.org\\&quot;\\u003eOpenStreetMap\\u003c/a\\u003e, under \\u003ca target=\\&quot;_blank\\&quot; href=\\&quot;http://www.openstreetmap.org/copyright\\&quot;\\u003eODbL\\u003c/a\\u003e.&quot;, &quot;detectRetina&quot;: false, &quot;maxNativeZoom&quot;: 18, &quot;maxZoom&quot;: 18, &quot;minZoom&quot;: 0, &quot;noWrap&quot;: false, &quot;opacity&quot;: 1, &quot;subdomains&quot;: &quot;abc&quot;, &quot;tms&quot;: false}\n",
       "            ).addTo(map_c52c380987e93ed9267fadd9c14835be);\n",
       "        \n",
       "    \n",
       "            var tile_layer_afb840b61b12a04cce830a80d012d3cb = L.tileLayer(\n",
       "                &quot;https://cartodb-basemaps-{s}.global.ssl.fastly.net/dark_all/{z}/{x}/{y}.png&quot;,\n",
       "                {&quot;attribution&quot;: &quot;\\u0026copy; \\u003ca target=\\&quot;_blank\\&quot; href=\\&quot;http://www.openstreetmap.org/copyright\\&quot;\\u003eOpenStreetMap\\u003c/a\\u003e contributors \\u0026copy; \\u003ca target=\\&quot;_blank\\&quot; href=\\&quot;http://cartodb.com/attributions\\&quot;\\u003eCartoDB\\u003c/a\\u003e, CartoDB \\u003ca target=\\&quot;_blank\\&quot; href =\\&quot;http://cartodb.com/attributions\\&quot;\\u003eattributions\\u003c/a\\u003e&quot;, &quot;detectRetina&quot;: false, &quot;maxNativeZoom&quot;: 18, &quot;maxZoom&quot;: 18, &quot;minZoom&quot;: 0, &quot;noWrap&quot;: false, &quot;opacity&quot;: 1, &quot;subdomains&quot;: &quot;abc&quot;, &quot;tms&quot;: false}\n",
       "            ).addTo(map_c52c380987e93ed9267fadd9c14835be);\n",
       "        \n",
       "    \n",
       "            var circle_marker_87054c462e5e802cbba5418e3ad459a9 = L.circleMarker(\n",
       "                [30.780483174999986, -87.81611115357144],\n",
       "                {&quot;bubblingMouseEvents&quot;: true, &quot;color&quot;: &quot;#612969&quot;, &quot;dashArray&quot;: null, &quot;dashOffset&quot;: null, &quot;fill&quot;: true, &quot;fillColor&quot;: &quot;#612969&quot;, &quot;fillOpacity&quot;: 0.8, &quot;fillRule&quot;: &quot;evenodd&quot;, &quot;lineCap&quot;: &quot;round&quot;, &quot;lineJoin&quot;: &quot;round&quot;, &quot;opacity&quot;: 1.0, &quot;radius&quot;: 6, &quot;stroke&quot;: false, &quot;weight&quot;: 3}\n",
       "            ).addTo(map_c52c380987e93ed9267fadd9c14835be);\n",
       "        \n",
       "    \n",
       "            var circle_marker_ac15adca6dc0aa41813a4af5ba6f70cc = L.circleMarker(\n",
       "                [35.683139624999995, -111.51031731896546],\n",
       "                {&quot;bubblingMouseEvents&quot;: true, &quot;color&quot;: &quot;#eb9972&quot;, &quot;dashArray&quot;: null, &quot;dashOffset&quot;: null, &quot;fill&quot;: true, &quot;fillColor&quot;: &quot;#eb9972&quot;, &quot;fillOpacity&quot;: 0.8, &quot;fillRule&quot;: &quot;evenodd&quot;, &quot;lineCap&quot;: &quot;round&quot;, &quot;lineJoin&quot;: &quot;round&quot;, &quot;opacity&quot;: 1.0, &quot;radius&quot;: 6, &quot;stroke&quot;: false, &quot;weight&quot;: 3}\n",
       "            ).addTo(map_c52c380987e93ed9267fadd9c14835be);\n",
       "        \n",
       "    \n",
       "            var circle_marker_a7ff9ee9588c13bd10000c18c62b6802 = L.circleMarker(\n",
       "                [35.89463798728815, -112.35619839618637],\n",
       "                {&quot;bubblingMouseEvents&quot;: true, &quot;color&quot;: &quot;#eca479&quot;, &quot;dashArray&quot;: null, &quot;dashOffset&quot;: null, &quot;fill&quot;: true, &quot;fillColor&quot;: &quot;#eca479&quot;, &quot;fillOpacity&quot;: 0.8, &quot;fillRule&quot;: &quot;evenodd&quot;, &quot;lineCap&quot;: &quot;round&quot;, &quot;lineJoin&quot;: &quot;round&quot;, &quot;opacity&quot;: 1.0, &quot;radius&quot;: 6, &quot;stroke&quot;: false, &quot;weight&quot;: 3}\n",
       "            ).addTo(map_c52c380987e93ed9267fadd9c14835be);\n",
       "        \n",
       "    \n",
       "            var circle_marker_dc98cc249cb48ac09dbe28568ac2c470 = L.circleMarker(\n",
       "                [33.80114508333334, -112.05925749999999],\n",
       "                {&quot;bubblingMouseEvents&quot;: true, &quot;color&quot;: &quot;#e88165&quot;, &quot;dashArray&quot;: null, &quot;dashOffset&quot;: null, &quot;fill&quot;: true, &quot;fillColor&quot;: &quot;#e88165&quot;, &quot;fillOpacity&quot;: 0.8, &quot;fillRule&quot;: &quot;evenodd&quot;, &quot;lineCap&quot;: &quot;round&quot;, &quot;lineJoin&quot;: &quot;round&quot;, &quot;opacity&quot;: 1.0, &quot;radius&quot;: 6, &quot;stroke&quot;: false, &quot;weight&quot;: 3}\n",
       "            ).addTo(map_c52c380987e93ed9267fadd9c14835be);\n",
       "        \n",
       "    \n",
       "            var circle_marker_0b24c2a57ca652b5dc4599516e21dc41 = L.circleMarker(\n",
       "                [33.408975285714284, -112.13139942857143],\n",
       "                {&quot;bubblingMouseEvents&quot;: true, &quot;color&quot;: &quot;#e67560&quot;, &quot;dashArray&quot;: null, &quot;dashOffset&quot;: null, &quot;fill&quot;: true, &quot;fillColor&quot;: &quot;#e67560&quot;, &quot;fillOpacity&quot;: 0.8, &quot;fillRule&quot;: &quot;evenodd&quot;, &quot;lineCap&quot;: &quot;round&quot;, &quot;lineJoin&quot;: &quot;round&quot;, &quot;opacity&quot;: 1.0, &quot;radius&quot;: 6, &quot;stroke&quot;: false, &quot;weight&quot;: 3}\n",
       "            ).addTo(map_c52c380987e93ed9267fadd9c14835be);\n",
       "        \n",
       "    \n",
       "            var circle_marker_01cc0bcf9ef0f8838d4414b2428230d1 = L.circleMarker(\n",
       "                [33.279232, -111.65122564705882],\n",
       "                {&quot;bubblingMouseEvents&quot;: true, &quot;color&quot;: &quot;#e67560&quot;, &quot;dashArray&quot;: null, &quot;dashOffset&quot;: null, &quot;fill&quot;: true, &quot;fillColor&quot;: &quot;#e67560&quot;, &quot;fillOpacity&quot;: 0.8, &quot;fillRule&quot;: &quot;evenodd&quot;, &quot;lineCap&quot;: &quot;round&quot;, &quot;lineJoin&quot;: &quot;round&quot;, &quot;opacity&quot;: 1.0, &quot;radius&quot;: 6, &quot;stroke&quot;: false, &quot;weight&quot;: 3}\n",
       "            ).addTo(map_c52c380987e93ed9267fadd9c14835be);\n",
       "        \n",
       "    \n",
       "            var circle_marker_3b0efef99c6e33faed85e5624e821a21 = L.circleMarker(\n",
       "                [35.63749573717947, -90.7987367948718],\n",
       "                {&quot;bubblingMouseEvents&quot;: true, &quot;color&quot;: &quot;#562666&quot;, &quot;dashArray&quot;: null, &quot;dashOffset&quot;: null, &quot;fill&quot;: true, &quot;fillColor&quot;: &quot;#562666&quot;, &quot;fillOpacity&quot;: 0.8, &quot;fillRule&quot;: &quot;evenodd&quot;, &quot;lineCap&quot;: &quot;round&quot;, &quot;lineJoin&quot;: &quot;round&quot;, &quot;opacity&quot;: 1.0, &quot;radius&quot;: 6, &quot;stroke&quot;: false, &quot;weight&quot;: 3}\n",
       "            ).addTo(map_c52c380987e93ed9267fadd9c14835be);\n",
       "        \n",
       "    \n",
       "            var circle_marker_bcd926888ed448bf120812f3c5df9955 = L.circleMarker(\n",
       "                [40.08920146268657, -123.65177978731344],\n",
       "                {&quot;bubblingMouseEvents&quot;: true, &quot;color&quot;: &quot;#a5396e&quot;, &quot;dashArray&quot;: null, &quot;dashOffset&quot;: null, &quot;fill&quot;: true, &quot;fillColor&quot;: &quot;#a5396e&quot;, &quot;fillOpacity&quot;: 0.8, &quot;fillRule&quot;: &quot;evenodd&quot;, &quot;lineCap&quot;: &quot;round&quot;, &quot;lineJoin&quot;: &quot;round&quot;, &quot;opacity&quot;: 1.0, &quot;radius&quot;: 6, &quot;stroke&quot;: false, &quot;weight&quot;: 3}\n",
       "            ).addTo(map_c52c380987e93ed9267fadd9c14835be);\n",
       "        \n",
       "    \n",
       "            var circle_marker_a9284a56c48dc6873023c2750d25e570 = L.circleMarker(\n",
       "                [37.24429333333333, -121.76192411111111],\n",
       "                {&quot;bubblingMouseEvents&quot;: true, &quot;color&quot;: &quot;#d14a61&quot;, &quot;dashArray&quot;: null, &quot;dashOffset&quot;: null, &quot;fill&quot;: true, &quot;fillColor&quot;: &quot;#d14a61&quot;, &quot;fillOpacity&quot;: 0.8, &quot;fillRule&quot;: &quot;evenodd&quot;, &quot;lineCap&quot;: &quot;round&quot;, &quot;lineJoin&quot;: &quot;round&quot;, &quot;opacity&quot;: 1.0, &quot;radius&quot;: 6, &quot;stroke&quot;: false, &quot;weight&quot;: 3}\n",
       "            ).addTo(map_c52c380987e93ed9267fadd9c14835be);\n",
       "        \n",
       "    \n",
       "            var circle_marker_d86adb224a16cc4f2c713dcac7af3420 = L.circleMarker(\n",
       "                [34.49174051540612, -120.21268466946775],\n",
       "                {&quot;bubblingMouseEvents&quot;: true, &quot;color&quot;: &quot;#e67560&quot;, &quot;dashArray&quot;: null, &quot;dashOffset&quot;: null, &quot;fill&quot;: true, &quot;fillColor&quot;: &quot;#e67560&quot;, &quot;fillOpacity&quot;: 0.8, &quot;fillRule&quot;: &quot;evenodd&quot;, &quot;lineCap&quot;: &quot;round&quot;, &quot;lineJoin&quot;: &quot;round&quot;, &quot;opacity&quot;: 1.0, &quot;radius&quot;: 6, &quot;stroke&quot;: false, &quot;weight&quot;: 3}\n",
       "            ).addTo(map_c52c380987e93ed9267fadd9c14835be);\n",
       "        \n",
       "&lt;/script&gt;\n",
       "&lt;/html&gt;\" style=\"position:absolute;width:100%;height:100%;left:0;top:0;border:none !important;\" allowfullscreen webkitallowfullscreen mozallowfullscreen></iframe></div></div>"
      ],
      "text/plain": [
       "<folium.folium.Map at 0x14cb7ceb0>"
      ]
     },
     "execution_count": 10,
     "metadata": {},
     "output_type": "execute_result"
    }
   ],
   "source": [
    "m = folium.Map(\n",
    "    location=(generation_df.lat.mean(), generation_df.lon.mean()),\n",
    "    zoom_start=4,\n",
    "    height=650,\n",
    "    width=1083,\n",
    ")\n",
    "folium.TileLayer('cartodbdark_matter').add_to(m)\n",
    "for i, row in generation_df.iterrows():\n",
    "    folium.CircleMarker(\n",
    "        location=[row.lat, row.lon],\n",
    "        fill=True,\n",
    "        stroke=False,\n",
    "        fill_opacity=0.8,\n",
    "        radius=6,\n",
    "        color=row.color,\n",
    "    ).add_to(m)\n",
    "m"
   ]
  },
  {
   "cell_type": "code",
   "execution_count": 11,
   "id": "fc9c0bed-6f20-4585-b78a-a0c445d334d0",
   "metadata": {
    "execution": {
     "iopub.execute_input": "2024-11-16T03:18:04.043912Z",
     "iopub.status.busy": "2024-11-16T03:18:04.043796Z",
     "iopub.status.idle": "2024-11-16T03:18:04.068803Z",
     "shell.execute_reply": "2024-11-16T03:18:04.068445Z",
     "shell.execute_reply.started": "2024-11-16T03:18:04.043901Z"
    }
   },
   "outputs": [
    {
     "name": "stdout",
     "output_type": "stream",
     "text": [
      "Saved to solar_points_2024_11_15T19_18_04_065762.json\n"
     ]
    },
    {
     "data": {
      "text/plain": [
       "True"
      ]
     },
     "execution_count": 11,
     "metadata": {},
     "output_type": "execute_result"
    }
   ],
   "source": [
    "data_generation.solar.save_as_geojson(congressional_summary_df, generation_df)"
   ]
  },
  {
   "cell_type": "markdown",
   "id": "1f9ad17d",
   "metadata": {},
   "source": [
    "# End of notebook"
   ]
  },
  {
   "cell_type": "code",
   "execution_count": null,
   "id": "9abcaf51-efb3-41ea-90f5-6210f1ccaf8d",
   "metadata": {},
   "outputs": [],
   "source": []
  }
 ],
 "metadata": {
  "kernelspec": {
   "display_name": "Python 3 (ipykernel)",
   "language": "python",
   "name": "python3"
  },
  "language_info": {
   "codemirror_mode": {
    "name": "ipython",
    "version": 3
   },
   "file_extension": ".py",
   "mimetype": "text/x-python",
   "name": "python",
   "nbconvert_exporter": "python",
   "pygments_lexer": "ipython3",
   "version": "3.9.20"
  },
  "notify_time": "30",
  "toc": {
   "base_numbering": 1,
   "nav_menu": {},
   "number_sections": true,
   "sideBar": true,
   "skip_h1_title": false,
   "title_cell": "Table of Contents",
   "title_sidebar": "Contents",
   "toc_cell": true,
   "toc_position": {},
   "toc_section_display": true,
   "toc_window_display": true
  },
  "widgets": {
   "application/vnd.jupyter.widget-state+json": {
    "state": {},
    "version_major": 2,
    "version_minor": 0
   }
  }
 },
 "nbformat": 4,
 "nbformat_minor": 5
}
