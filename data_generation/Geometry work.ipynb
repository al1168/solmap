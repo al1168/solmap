{
 "cells": [
  {
   "cell_type": "code",
   "execution_count": 163,
   "id": "1f69d065-ba9c-4b27-a9aa-04006f01d037",
   "metadata": {
    "execution": {
     "iopub.execute_input": "2024-11-21T19:04:22.206497Z",
     "iopub.status.busy": "2024-11-21T19:04:22.206308Z",
     "iopub.status.idle": "2024-11-21T19:04:22.218182Z",
     "shell.execute_reply": "2024-11-21T19:04:22.217799Z",
     "shell.execute_reply.started": "2024-11-21T19:04:22.206481Z"
    }
   },
   "outputs": [],
   "source": [
    "from dotenv import load_dotenv\n",
    "import json\n",
    "import numpy as np\n",
    "import pandas as pd\n",
    "import os"
   ]
  },
  {
   "cell_type": "code",
   "execution_count": 2,
   "id": "5e8083c8-5cd5-458e-a228-68a42caa1a19",
   "metadata": {
    "execution": {
     "iopub.execute_input": "2024-11-20T20:54:40.945633Z",
     "iopub.status.busy": "2024-11-20T20:54:40.944991Z",
     "iopub.status.idle": "2024-11-20T20:54:40.952258Z",
     "shell.execute_reply": "2024-11-20T20:54:40.951874Z",
     "shell.execute_reply.started": "2024-11-20T20:54:40.945600Z"
    }
   },
   "outputs": [],
   "source": [
    "load_dotenv()\n",
    "NREL_API_KEY = os.getenv(\"NREL_API_KEY\")\n",
    "NREL_API_EMAIL = os.getenv(\"NREL_API_EMAIL\")"
   ]
  },
  {
   "cell_type": "code",
   "execution_count": 3,
   "id": "690c07f9-17c0-46af-b5a3-b6d35497d231",
   "metadata": {
    "execution": {
     "iopub.execute_input": "2024-11-20T20:54:40.953882Z",
     "iopub.status.busy": "2024-11-20T20:54:40.953455Z",
     "iopub.status.idle": "2024-11-20T20:54:40.968546Z",
     "shell.execute_reply": "2024-11-20T20:54:40.968201Z",
     "shell.execute_reply.started": "2024-11-20T20:54:40.953847Z"
    }
   },
   "outputs": [],
   "source": [
    "import sys\n",
    "\n",
    "sys.path.append(\"/Users/andrebach/code/solmap\")\n",
    "%load_ext autoreload\n",
    "%autoreload 2"
   ]
  },
  {
   "cell_type": "code",
   "execution_count": 4,
   "id": "fad83267-934c-4c4c-afd1-6395ae9395a5",
   "metadata": {
    "execution": {
     "iopub.execute_input": "2024-11-20T20:54:40.969163Z",
     "iopub.status.busy": "2024-11-20T20:54:40.969055Z",
     "iopub.status.idle": "2024-11-20T20:54:42.497088Z",
     "shell.execute_reply": "2024-11-20T20:54:42.496649Z",
     "shell.execute_reply.started": "2024-11-20T20:54:40.969152Z"
    }
   },
   "outputs": [
    {
     "name": "stdout",
     "output_type": "stream",
     "text": [
      "Intel MKL WARNING: Support of Intel(R) Streaming SIMD Extensions 4.2 (Intel(R) SSE4.2) enabled only processors has been deprecated. Intel oneAPI Math Kernel Library 2025.0 will require Intel(R) Advanced Vector Extensions (Intel(R) AVX) instructions.\n",
      "Intel MKL WARNING: Support of Intel(R) Streaming SIMD Extensions 4.2 (Intel(R) SSE4.2) enabled only processors has been deprecated. Intel oneAPI Math Kernel Library 2025.0 will require Intel(R) Advanced Vector Extensions (Intel(R) AVX) instructions.\n"
     ]
    }
   ],
   "source": [
    "import data_generation"
   ]
  },
  {
   "cell_type": "code",
   "execution_count": 156,
   "id": "ddcb0dc0-5722-497d-b1f7-24556058bf98",
   "metadata": {
    "execution": {
     "iopub.execute_input": "2024-11-21T18:20:09.515245Z",
     "iopub.status.busy": "2024-11-21T18:20:09.514355Z",
     "iopub.status.idle": "2024-11-21T18:20:32.089459Z",
     "shell.execute_reply": "2024-11-21T18:20:32.089099Z",
     "shell.execute_reply.started": "2024-11-21T18:20:09.515187Z"
    }
   },
   "outputs": [
    {
     "name": "stdout",
     "output_type": "stream",
     "text": [
      "i = 0\n",
      "i = 100\n",
      "i = 200\n",
      "i = 300\n",
      "i = 400\n",
      "Wrote to congressional_geometry_v4.csv\n"
     ]
    }
   ],
   "source": [
    "new_summary = data_generation.geometry.load_congresional_district_points(\n",
    "    file_to_save=\"congressional_geometry_v4.csv\"\n",
    ")"
   ]
  },
  {
   "cell_type": "code",
   "execution_count": 160,
   "id": "3ac2926c-0896-47c4-aaae-a8269da653e0",
   "metadata": {
    "execution": {
     "iopub.execute_input": "2024-11-21T18:22:25.446310Z",
     "iopub.status.busy": "2024-11-21T18:22:25.445659Z",
     "iopub.status.idle": "2024-11-21T18:22:30.567007Z",
     "shell.execute_reply": "2024-11-21T18:22:30.566684Z",
     "shell.execute_reply.started": "2024-11-21T18:22:25.446273Z"
    }
   },
   "outputs": [
    {
     "name": "stdout",
     "output_type": "stream",
     "text": [
      "Not bothering with country_mexico-state_Oaxaca-district_Matías Romero Avendaño\n",
      "Not bothering with country_mexico-state_Sonora-district_Guaymas\n",
      "Wrote to mexico_geometry_v2.csv\n"
     ]
    }
   ],
   "source": [
    "mexico_df = data_generation.geometry.load_mexico_district_points(\n",
    "    file_to_save=\"mexico_geometry_v2.csv\",\n",
    ")"
   ]
  },
  {
   "cell_type": "code",
   "execution_count": 164,
   "id": "3567693b-4676-49d5-8fdf-02ecef6c9d75",
   "metadata": {
    "execution": {
     "iopub.execute_input": "2024-11-21T19:04:25.749906Z",
     "iopub.status.busy": "2024-11-21T19:04:25.749577Z",
     "iopub.status.idle": "2024-11-21T19:04:29.436645Z",
     "shell.execute_reply": "2024-11-21T19:04:29.436183Z",
     "shell.execute_reply.started": "2024-11-21T19:04:25.749891Z"
    }
   },
   "outputs": [],
   "source": [
    "with open(\"mexico.json\", \"r\") as f:\n",
    "    mexico_json = json.load(f)"
   ]
  },
  {
   "cell_type": "code",
   "execution_count": 236,
   "id": "8f4315d0-7a6c-4778-975e-ce5d3a1c01ef",
   "metadata": {
    "execution": {
     "iopub.execute_input": "2024-11-21T20:05:44.828547Z",
     "iopub.status.busy": "2024-11-21T20:05:44.827660Z",
     "iopub.status.idle": "2024-11-21T20:05:44.865189Z",
     "shell.execute_reply": "2024-11-21T20:05:44.864639Z",
     "shell.execute_reply.started": "2024-11-21T20:05:44.828485Z"
    }
   },
   "outputs": [],
   "source": [
    "def arbitrary_coords_lists_to_array(coords, verbose=False):\n",
    "    \"\"\"\n",
    "    GeoJSON polygons from the internet are in inconsistently formatted\n",
    "    lists of lists of lists (of lists). We want a simple array of shape (N, 2).\n",
    "    This flattens such an array.\n",
    "    \"\"\"\n",
    "    if verbose:\n",
    "        print(f\"Starting {len(coords)=}\")\n",
    "    flat = []\n",
    "    for item in coords:\n",
    "        if verbose:\n",
    "            print(f\"    Processing {len(item)=}\")\n",
    "        subitem_lengths_all_2 = all([len(i) == 2 for i in item])\n",
    "        subsubitems_all_floats = all(\n",
    "            [all([isinstance(j, (float, int)) for j in i]) for i in item]\n",
    "        )\n",
    "        if verbose:\n",
    "            print(f\"    {subitem_lengths_all_2=}, {subsubitems_all_floats=}\")\n",
    "        if subitem_lengths_all_2 and subsubitems_all_floats:\n",
    "            if verbose:\n",
    "                print(f\"        Appending item {len(item)=}\")\n",
    "            for pair in item:\n",
    "                flat.append(pair)\n",
    "        else:\n",
    "            if verbose:\n",
    "                print(\"        Recursive call\")\n",
    "            flat.extend(arbitrary_coords_lists_to_array(item, verbose=verbose))\n",
    "    return flat"
   ]
  },
  {
   "cell_type": "code",
   "execution_count": 240,
   "id": "33ab5e6b-9bb0-4d52-abf9-fd453c306bc1",
   "metadata": {
    "execution": {
     "iopub.execute_input": "2024-11-21T20:06:55.924336Z",
     "iopub.status.busy": "2024-11-21T20:06:55.923572Z",
     "iopub.status.idle": "2024-11-21T20:06:55.966151Z",
     "shell.execute_reply": "2024-11-21T20:06:55.965690Z",
     "shell.execute_reply.started": "2024-11-21T20:06:55.924281Z"
    }
   },
   "outputs": [
    {
     "name": "stdout",
     "output_type": "stream",
     "text": [
      "Starting len(coords)=2\n",
      "    Processing len(item)=1\n",
      "    subitem_lengths_all_2=False, subsubitems_all_floats=False\n",
      "        Recursive call\n",
      "Starting len(coords)=1\n",
      "    Processing len(item)=295\n",
      "    subitem_lengths_all_2=True, subsubitems_all_floats=True\n",
      "        Appending item len(item)=295\n",
      "    Processing len(item)=1\n",
      "    subitem_lengths_all_2=False, subsubitems_all_floats=False\n",
      "        Recursive call\n",
      "Starting len(coords)=1\n",
      "    Processing len(item)=5579\n",
      "    subitem_lengths_all_2=True, subsubitems_all_floats=True\n",
      "        Appending item len(item)=5579\n"
     ]
    }
   ],
   "source": [
    "for feature in mexico_json[\"features\"]:\n",
    "    properties = feature[\"properties\"]\n",
    "    if not properties[\"NOMGEO\"] == \"Mexicali\":\n",
    "       continue\n",
    "    coordinates = feature[\"geometry\"][\"coordinates\"]\n",
    "    nice_array = np.array(\n",
    "        arbitrary_coords_lists_to_array(coordinates, verbose=True)\n",
    "    )\n",
    "    assert nice_array.ndim == 2\n",
    "    assert nice_array.shape[1] == 2"
   ]
  },
  {
   "cell_type": "code",
   "execution_count": 238,
   "id": "a4c52515-be1c-4148-8b3d-7d1a7060d554",
   "metadata": {
    "execution": {
     "iopub.execute_input": "2024-11-21T20:05:46.533701Z",
     "iopub.status.busy": "2024-11-21T20:05:46.532533Z",
     "iopub.status.idle": "2024-11-21T20:05:46.601366Z",
     "shell.execute_reply": "2024-11-21T20:05:46.600381Z",
     "shell.execute_reply.started": "2024-11-21T20:05:46.533619Z"
    }
   },
   "outputs": [
    {
     "data": {
      "text/plain": [
       "(17838, 2)"
      ]
     },
     "execution_count": 238,
     "metadata": {},
     "output_type": "execute_result"
    }
   ],
   "source": [
    "nice_array.shape"
   ]
  },
  {
   "cell_type": "code",
   "execution_count": 239,
   "id": "e70931f6-a07f-4ee5-a699-adc2e616f5a0",
   "metadata": {
    "execution": {
     "iopub.execute_input": "2024-11-21T20:05:47.929287Z",
     "iopub.status.busy": "2024-11-21T20:05:47.928860Z",
     "iopub.status.idle": "2024-11-21T20:05:47.951890Z",
     "shell.execute_reply": "2024-11-21T20:05:47.951421Z",
     "shell.execute_reply.started": "2024-11-21T20:05:47.929259Z"
    }
   },
   "outputs": [
    {
     "data": {
      "text/plain": [
       "array([[-110.95087805,   27.8673884 ],\n",
       "       [-110.95108619,   27.86737384],\n",
       "       [-110.95124749,   27.86750879],\n",
       "       [-110.95124224,   27.86776991],\n",
       "       [-110.95124014,   27.8679799 ],\n",
       "       [-110.95120758,   27.86804466],\n",
       "       [-110.9510761 ,   27.86809394],\n",
       "       [-110.95098054,   27.8681742 ],\n",
       "       [-110.95094546,   27.8682511 ],\n",
       "       [-110.95088812,   27.86829925]])"
      ]
     },
     "execution_count": 239,
     "metadata": {},
     "output_type": "execute_result"
    }
   ],
   "source": [
    "nice_array[:10]"
   ]
  },
  {
   "cell_type": "code",
   "execution_count": 235,
   "id": "00b60dc0-4025-4af4-8eac-4f46598f6ab5",
   "metadata": {
    "execution": {
     "iopub.execute_input": "2024-11-21T20:05:26.046961Z",
     "iopub.status.busy": "2024-11-21T20:05:26.046148Z",
     "iopub.status.idle": "2024-11-21T20:05:26.083362Z",
     "shell.execute_reply": "2024-11-21T20:05:26.082858Z",
     "shell.execute_reply.started": "2024-11-21T20:05:26.046901Z"
    }
   },
   "outputs": [
    {
     "data": {
      "text/plain": [
       "array([0.24890233, 0.1436327 ])"
      ]
     },
     "execution_count": 235,
     "metadata": {},
     "output_type": "execute_result"
    }
   ],
   "source": [
    "nice_array.std(axis=0)"
   ]
  },
  {
   "cell_type": "code",
   "execution_count": 230,
   "id": "0a7ba935-bd13-4968-bbf4-fdf3db5d4734",
   "metadata": {
    "execution": {
     "iopub.execute_input": "2024-11-21T20:05:05.512292Z",
     "iopub.status.busy": "2024-11-21T20:05:05.511469Z",
     "iopub.status.idle": "2024-11-21T20:05:05.546244Z",
     "shell.execute_reply": "2024-11-21T20:05:05.545691Z",
     "shell.execute_reply.started": "2024-11-21T20:05:05.512230Z"
    }
   },
   "outputs": [
    {
     "data": {
      "text/plain": [
       "array([0.24890233, 0.1436327 ])"
      ]
     },
     "execution_count": 230,
     "metadata": {},
     "output_type": "execute_result"
    }
   ],
   "source": [
    "nice_array.std(axis=0)"
   ]
  },
  {
   "cell_type": "code",
   "execution_count": 220,
   "id": "71c960a5-e499-4acc-b55b-ac3c823d64b5",
   "metadata": {
    "execution": {
     "iopub.execute_input": "2024-11-21T19:20:52.087016Z",
     "iopub.status.busy": "2024-11-21T19:20:52.086241Z",
     "iopub.status.idle": "2024-11-21T19:20:52.123165Z",
     "shell.execute_reply": "2024-11-21T19:20:52.122736Z",
     "shell.execute_reply.started": "2024-11-21T19:20:52.086959Z"
    }
   },
   "outputs": [
    {
     "name": "stdout",
     "output_type": "stream",
     "text": [
      "Starting len(coords)=1\n",
      "    Processing len(item)=817\n",
      "    subitem_lengths_all_2=True, subsubitems_all_floats=True\n",
      "        Appending item len(item)=817\n",
      "\n",
      "Starting len(coords)=1\n",
      "    Processing len(item)=851\n",
      "    subitem_lengths_all_2=True, subsubitems_all_floats=True\n",
      "        Appending item len(item)=851\n",
      "\n",
      "Starting len(coords)=1\n",
      "    Processing len(item)=711\n",
      "    subitem_lengths_all_2=True, subsubitems_all_floats=True\n",
      "        Appending item len(item)=711\n",
      "\n"
     ]
    }
   ],
   "source": [
    "for feature in mexico_json[\"features\"][:3]:\n",
    "    properties = feature[\"properties\"]\n",
    "    coordinates = feature[\"geometry\"][\"coordinates\"]\n",
    "    nice_array = np.array(\n",
    "        arbitrary_coords_lists_to_array(coordinates, verbose=True)\n",
    "    )\n",
    "    assert nice_array.ndim == 2\n",
    "    assert nice_array.shape[1] == 2\n",
    "    print()"
   ]
  },
  {
   "cell_type": "code",
   "execution_count": 221,
   "id": "2a42b837-bd1a-4ca0-87ac-df254618cb9e",
   "metadata": {
    "execution": {
     "iopub.execute_input": "2024-11-21T19:21:15.078801Z",
     "iopub.status.busy": "2024-11-21T19:21:15.077977Z",
     "iopub.status.idle": "2024-11-21T19:21:15.113174Z",
     "shell.execute_reply": "2024-11-21T19:21:15.112583Z",
     "shell.execute_reply.started": "2024-11-21T19:21:15.078750Z"
    }
   },
   "outputs": [
    {
     "data": {
      "text/plain": [
       "(711, 2)"
      ]
     },
     "execution_count": 221,
     "metadata": {},
     "output_type": "execute_result"
    }
   ],
   "source": [
    "nice_array.shape"
   ]
  },
  {
   "cell_type": "code",
   "execution_count": null,
   "id": "4358d7c6-4d21-48f5-97e6-db70eada71c7",
   "metadata": {},
   "outputs": [],
   "source": []
  }
 ],
 "metadata": {
  "kernelspec": {
   "display_name": "Python 3 (ipykernel)",
   "language": "python",
   "name": "python3"
  },
  "language_info": {
   "codemirror_mode": {
    "name": "ipython",
    "version": 3
   },
   "file_extension": ".py",
   "mimetype": "text/x-python",
   "name": "python",
   "nbconvert_exporter": "python",
   "pygments_lexer": "ipython3",
   "version": "3.9.20"
  },
  "widgets": {
   "application/vnd.jupyter.widget-state+json": {
    "state": {},
    "version_major": 2,
    "version_minor": 0
   }
  }
 },
 "nbformat": 4,
 "nbformat_minor": 5
}
