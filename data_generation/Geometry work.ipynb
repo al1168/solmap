{
 "cells": [
  {
   "cell_type": "code",
   "execution_count": 134,
   "id": "1f69d065-ba9c-4b27-a9aa-04006f01d037",
   "metadata": {
    "execution": {
     "iopub.execute_input": "2024-11-21T00:45:35.715238Z",
     "iopub.status.busy": "2024-11-21T00:45:35.714372Z",
     "iopub.status.idle": "2024-11-21T00:45:35.774211Z",
     "shell.execute_reply": "2024-11-21T00:45:35.773558Z",
     "shell.execute_reply.started": "2024-11-21T00:45:35.715184Z"
    }
   },
   "outputs": [],
   "source": [
    "from dotenv import load_dotenv\n",
    "import numpy as np\n",
    "import pandas as pd\n",
    "import os"
   ]
  },
  {
   "cell_type": "code",
   "execution_count": 2,
   "id": "5e8083c8-5cd5-458e-a228-68a42caa1a19",
   "metadata": {
    "execution": {
     "iopub.execute_input": "2024-11-20T20:54:40.945633Z",
     "iopub.status.busy": "2024-11-20T20:54:40.944991Z",
     "iopub.status.idle": "2024-11-20T20:54:40.952258Z",
     "shell.execute_reply": "2024-11-20T20:54:40.951874Z",
     "shell.execute_reply.started": "2024-11-20T20:54:40.945600Z"
    }
   },
   "outputs": [],
   "source": [
    "load_dotenv()\n",
    "NREL_API_KEY = os.getenv(\"NREL_API_KEY\")\n",
    "NREL_API_EMAIL = os.getenv(\"NREL_API_EMAIL\")"
   ]
  },
  {
   "cell_type": "code",
   "execution_count": 3,
   "id": "690c07f9-17c0-46af-b5a3-b6d35497d231",
   "metadata": {
    "execution": {
     "iopub.execute_input": "2024-11-20T20:54:40.953882Z",
     "iopub.status.busy": "2024-11-20T20:54:40.953455Z",
     "iopub.status.idle": "2024-11-20T20:54:40.968546Z",
     "shell.execute_reply": "2024-11-20T20:54:40.968201Z",
     "shell.execute_reply.started": "2024-11-20T20:54:40.953847Z"
    }
   },
   "outputs": [],
   "source": [
    "import sys\n",
    "\n",
    "sys.path.append(\"/Users/andrebach/code/solmap\")\n",
    "%load_ext autoreload\n",
    "%autoreload 2"
   ]
  },
  {
   "cell_type": "code",
   "execution_count": 4,
   "id": "fad83267-934c-4c4c-afd1-6395ae9395a5",
   "metadata": {
    "execution": {
     "iopub.execute_input": "2024-11-20T20:54:40.969163Z",
     "iopub.status.busy": "2024-11-20T20:54:40.969055Z",
     "iopub.status.idle": "2024-11-20T20:54:42.497088Z",
     "shell.execute_reply": "2024-11-20T20:54:42.496649Z",
     "shell.execute_reply.started": "2024-11-20T20:54:40.969152Z"
    }
   },
   "outputs": [
    {
     "name": "stdout",
     "output_type": "stream",
     "text": [
      "Intel MKL WARNING: Support of Intel(R) Streaming SIMD Extensions 4.2 (Intel(R) SSE4.2) enabled only processors has been deprecated. Intel oneAPI Math Kernel Library 2025.0 will require Intel(R) Advanced Vector Extensions (Intel(R) AVX) instructions.\n",
      "Intel MKL WARNING: Support of Intel(R) Streaming SIMD Extensions 4.2 (Intel(R) SSE4.2) enabled only processors has been deprecated. Intel oneAPI Math Kernel Library 2025.0 will require Intel(R) Advanced Vector Extensions (Intel(R) AVX) instructions.\n"
     ]
    }
   ],
   "source": [
    "import data_generation"
   ]
  },
  {
   "cell_type": "code",
   "execution_count": 18,
   "id": "ddcb0dc0-5722-497d-b1f7-24556058bf98",
   "metadata": {
    "execution": {
     "iopub.execute_input": "2024-11-20T20:58:27.317001Z",
     "iopub.status.busy": "2024-11-20T20:58:27.315768Z",
     "iopub.status.idle": "2024-11-20T20:58:49.067764Z",
     "shell.execute_reply": "2024-11-20T20:58:49.067377Z",
     "shell.execute_reply.started": "2024-11-20T20:58:27.316930Z"
    }
   },
   "outputs": [
    {
     "name": "stdout",
     "output_type": "stream",
     "text": [
      "i = 0\n",
      "i = 100\n",
      "i = 200\n",
      "i = 300\n",
      "i = 400\n",
      "meep\n",
      "Wrote to congressional_geometry_v3.csv\n"
     ]
    }
   ],
   "source": [
    "new_summary = data_generation.geometry.load_congresional_district_points(\n",
    "    file_to_save=\"congressional_geometry_v3.csv\"\n",
    ")"
   ]
  },
  {
   "cell_type": "code",
   "execution_count": 149,
   "id": "3ac2926c-0896-47c4-aaae-a8269da653e0",
   "metadata": {
    "execution": {
     "iopub.execute_input": "2024-11-21T00:52:07.208423Z",
     "iopub.status.busy": "2024-11-21T00:52:07.205702Z",
     "iopub.status.idle": "2024-11-21T00:52:11.472278Z",
     "shell.execute_reply": "2024-11-21T00:52:11.471898Z",
     "shell.execute_reply.started": "2024-11-21T00:52:07.208375Z"
    }
   },
   "outputs": [
    {
     "name": "stdout",
     "output_type": "stream",
     "text": [
      "Not bothering with country_mexico-state_Oaxaca-district_Matías Romero Avendaño\n",
      "Not bothering with country_mexico-state_Sonora-district_Guaymas\n",
      "Wrote to mexico_geometry_v1.csv\n"
     ]
    }
   ],
   "source": [
    "mexico_df = data_generation.geometry.load_mexico_district_points(\n",
    "    file_to_save=\"mexico_geometry_v1.csv\",\n",
    ")"
   ]
  },
  {
   "cell_type": "code",
   "execution_count": null,
   "id": "7e1883d6-3baa-40a0-bf8f-ac2801c0b21f",
   "metadata": {},
   "outputs": [],
   "source": []
  }
 ],
 "metadata": {
  "kernelspec": {
   "display_name": "Python 3 (ipykernel)",
   "language": "python",
   "name": "python3"
  },
  "language_info": {
   "codemirror_mode": {
    "name": "ipython",
    "version": 3
   },
   "file_extension": ".py",
   "mimetype": "text/x-python",
   "name": "python",
   "nbconvert_exporter": "python",
   "pygments_lexer": "ipython3",
   "version": "3.9.20"
  },
  "widgets": {
   "application/vnd.jupyter.widget-state+json": {
    "state": {},
    "version_major": 2,
    "version_minor": 0
   }
  }
 },
 "nbformat": 4,
 "nbformat_minor": 5
}
