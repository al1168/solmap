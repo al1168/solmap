{
 "cells": [
  {
   "cell_type": "code",
   "execution_count": 5,
   "id": "1f69d065-ba9c-4b27-a9aa-04006f01d037",
   "metadata": {
    "execution": {
     "iopub.execute_input": "2024-11-20T19:41:20.183542Z",
     "iopub.status.busy": "2024-11-20T19:41:20.183046Z",
     "iopub.status.idle": "2024-11-20T19:41:20.187724Z",
     "shell.execute_reply": "2024-11-20T19:41:20.186746Z",
     "shell.execute_reply.started": "2024-11-20T19:41:20.183510Z"
    }
   },
   "outputs": [],
   "source": [
    "from dotenv import load_dotenv\n",
    "import os"
   ]
  },
  {
   "cell_type": "code",
   "execution_count": 6,
   "id": "5e8083c8-5cd5-458e-a228-68a42caa1a19",
   "metadata": {
    "execution": {
     "iopub.execute_input": "2024-11-20T19:41:20.418739Z",
     "iopub.status.busy": "2024-11-20T19:41:20.418037Z",
     "iopub.status.idle": "2024-11-20T19:41:20.425481Z",
     "shell.execute_reply": "2024-11-20T19:41:20.424527Z",
     "shell.execute_reply.started": "2024-11-20T19:41:20.418690Z"
    }
   },
   "outputs": [],
   "source": [
    "load_dotenv()\n",
    "NREL_API_KEY = os.getenv(\"NREL_API_KEY\")\n",
    "NREL_API_EMAIL = os.getenv(\"NREL_API_EMAIL\")"
   ]
  },
  {
   "cell_type": "code",
   "execution_count": 7,
   "id": "690c07f9-17c0-46af-b5a3-b6d35497d231",
   "metadata": {
    "execution": {
     "iopub.execute_input": "2024-11-20T19:41:26.375869Z",
     "iopub.status.busy": "2024-11-20T19:41:26.375161Z",
     "iopub.status.idle": "2024-11-20T19:41:26.407288Z",
     "shell.execute_reply": "2024-11-20T19:41:26.406909Z",
     "shell.execute_reply.started": "2024-11-20T19:41:26.375823Z"
    }
   },
   "outputs": [],
   "source": [
    "import sys\n",
    "\n",
    "sys.path.append(\"/Users/andrebach/code/solmap\")\n",
    "%load_ext autoreload\n",
    "%autoreload 2"
   ]
  },
  {
   "cell_type": "code",
   "execution_count": 8,
   "id": "fad83267-934c-4c4c-afd1-6395ae9395a5",
   "metadata": {
    "execution": {
     "iopub.execute_input": "2024-11-20T19:41:30.738957Z",
     "iopub.status.busy": "2024-11-20T19:41:30.738210Z",
     "iopub.status.idle": "2024-11-20T19:41:32.382468Z",
     "shell.execute_reply": "2024-11-20T19:41:32.381893Z",
     "shell.execute_reply.started": "2024-11-20T19:41:30.738905Z"
    }
   },
   "outputs": [
    {
     "name": "stdout",
     "output_type": "stream",
     "text": [
      "Intel MKL WARNING: Support of Intel(R) Streaming SIMD Extensions 4.2 (Intel(R) SSE4.2) enabled only processors has been deprecated. Intel oneAPI Math Kernel Library 2025.0 will require Intel(R) Advanced Vector Extensions (Intel(R) AVX) instructions.\n",
      "Intel MKL WARNING: Support of Intel(R) Streaming SIMD Extensions 4.2 (Intel(R) SSE4.2) enabled only processors has been deprecated. Intel oneAPI Math Kernel Library 2025.0 will require Intel(R) Advanced Vector Extensions (Intel(R) AVX) instructions.\n"
     ]
    }
   ],
   "source": [
    "import data_generation"
   ]
  },
  {
   "cell_type": "code",
   "execution_count": 10,
   "id": "392e75e3-043a-474b-bc50-c5f4ab6ff466",
   "metadata": {
    "execution": {
     "iopub.execute_input": "2024-11-20T19:41:54.233021Z",
     "iopub.status.busy": "2024-11-20T19:41:54.231743Z",
     "iopub.status.idle": "2024-11-20T19:41:54.290525Z",
     "shell.execute_reply": "2024-11-20T19:41:54.290056Z",
     "shell.execute_reply.started": "2024-11-20T19:41:54.232941Z"
    }
   },
   "outputs": [],
   "source": [
    "congressional_summary_df = data_generation.geometry.load_congresional_district_points(\n",
    "    file_to_load=\"congressional_geometry.csv\",\n",
    ")"
   ]
  },
  {
   "cell_type": "code",
   "execution_count": 12,
   "id": "eaf402eb-c961-4832-b044-ce11a9f09655",
   "metadata": {
    "execution": {
     "iopub.execute_input": "2024-11-20T19:42:00.632996Z",
     "iopub.status.busy": "2024-11-20T19:42:00.632229Z",
     "iopub.status.idle": "2024-11-20T19:42:00.675362Z",
     "shell.execute_reply": "2024-11-20T19:42:00.674829Z",
     "shell.execute_reply.started": "2024-11-20T19:42:00.632946Z"
    }
   },
   "outputs": [
    {
     "data": {
      "text/html": [
       "<div>\n",
       "<style scoped>\n",
       "    .dataframe tbody tr th:only-of-type {\n",
       "        vertical-align: middle;\n",
       "    }\n",
       "\n",
       "    .dataframe tbody tr th {\n",
       "        vertical-align: top;\n",
       "    }\n",
       "\n",
       "    .dataframe thead th {\n",
       "        text-align: right;\n",
       "    }\n",
       "</style>\n",
       "<table border=\"1\" class=\"dataframe\">\n",
       "  <thead>\n",
       "    <tr style=\"text-align: right;\">\n",
       "      <th></th>\n",
       "      <th></th>\n",
       "      <th></th>\n",
       "      <th></th>\n",
       "      <th></th>\n",
       "      <th></th>\n",
       "      <th></th>\n",
       "      <th>lat</th>\n",
       "      <th>lon</th>\n",
       "    </tr>\n",
       "    <tr>\n",
       "      <th>GEO_ID</th>\n",
       "      <th>STATE</th>\n",
       "      <th>CD</th>\n",
       "      <th>NAME</th>\n",
       "      <th>LSAD</th>\n",
       "      <th>CENSUSAREA</th>\n",
       "      <th>json_index</th>\n",
       "      <th></th>\n",
       "      <th></th>\n",
       "    </tr>\n",
       "  </thead>\n",
       "  <tbody>\n",
       "    <tr>\n",
       "      <th>5001100US0101</th>\n",
       "      <th>01</th>\n",
       "      <th>01</th>\n",
       "      <th>1</th>\n",
       "      <th>CD</th>\n",
       "      <th>6304.328</th>\n",
       "      <th>0</th>\n",
       "      <td>30.780483</td>\n",
       "      <td>-87.816111</td>\n",
       "    </tr>\n",
       "    <tr>\n",
       "      <th>5001100US0401</th>\n",
       "      <th>04</th>\n",
       "      <th>01</th>\n",
       "      <th>1</th>\n",
       "      <th>CD</th>\n",
       "      <th>58573.066</th>\n",
       "      <th>1</th>\n",
       "      <td>35.683140</td>\n",
       "      <td>-111.510317</td>\n",
       "    </tr>\n",
       "    <tr>\n",
       "      <th>5001100US0402</th>\n",
       "      <th>04</th>\n",
       "      <th>02</th>\n",
       "      <th>2</th>\n",
       "      <th>CD</th>\n",
       "      <th>20222.310</th>\n",
       "      <th>2</th>\n",
       "      <td>35.894638</td>\n",
       "      <td>-112.356198</td>\n",
       "    </tr>\n",
       "    <tr>\n",
       "      <th>5001100US0403</th>\n",
       "      <th>04</th>\n",
       "      <th>03</th>\n",
       "      <th>3</th>\n",
       "      <th>CD</th>\n",
       "      <th>598.057</th>\n",
       "      <th>3</th>\n",
       "      <td>33.801145</td>\n",
       "      <td>-112.059258</td>\n",
       "    </tr>\n",
       "    <tr>\n",
       "      <th>5001100US0404</th>\n",
       "      <th>04</th>\n",
       "      <th>04</th>\n",
       "      <th>4</th>\n",
       "      <th>CD</th>\n",
       "      <th>198.996</th>\n",
       "      <th>4</th>\n",
       "      <td>33.408975</td>\n",
       "      <td>-112.131399</td>\n",
       "    </tr>\n",
       "  </tbody>\n",
       "</table>\n",
       "</div>"
      ],
      "text/plain": [
       "                                                              lat         lon\n",
       "GEO_ID        STATE CD NAME LSAD CENSUSAREA json_index                       \n",
       "5001100US0101 01    01 1    CD   6304.328   0           30.780483  -87.816111\n",
       "5001100US0401 04    01 1    CD   58573.066  1           35.683140 -111.510317\n",
       "5001100US0402 04    02 2    CD   20222.310  2           35.894638 -112.356198\n",
       "5001100US0403 04    03 3    CD   598.057    3           33.801145 -112.059258\n",
       "5001100US0404 04    04 4    CD   198.996    4           33.408975 -112.131399"
      ]
     },
     "execution_count": 12,
     "metadata": {},
     "output_type": "execute_result"
    }
   ],
   "source": [
    "congressional_summary_df.head()"
   ]
  },
  {
   "cell_type": "code",
   "execution_count": 17,
   "id": "7a8c1f20-b3d2-4c6a-83d2-7e0871963ff6",
   "metadata": {
    "execution": {
     "iopub.execute_input": "2024-11-20T19:47:41.388677Z",
     "iopub.status.busy": "2024-11-20T19:47:41.387637Z",
     "iopub.status.idle": "2024-11-20T19:47:41.714161Z",
     "shell.execute_reply": "2024-11-20T19:47:41.713821Z",
     "shell.execute_reply.started": "2024-11-20T19:47:41.388576Z"
    }
   },
   "outputs": [
    {
     "name": "stdout",
     "output_type": "stream",
     "text": [
      "i = 0\n"
     ]
    }
   ],
   "source": [
    "congressional_df = data_generation.geometry.load_congresional_district_polygons(limit=3)"
   ]
  },
  {
   "cell_type": "code",
   "execution_count": 30,
   "id": "6c9f4977-f0a4-4f6f-8f3e-b612f9642fb3",
   "metadata": {
    "execution": {
     "iopub.execute_input": "2024-11-20T19:54:28.215759Z",
     "iopub.status.busy": "2024-11-20T19:54:28.214951Z",
     "iopub.status.idle": "2024-11-20T19:54:28.248329Z",
     "shell.execute_reply": "2024-11-20T19:54:28.247662Z",
     "shell.execute_reply.started": "2024-11-20T19:54:28.215713Z"
    }
   },
   "outputs": [],
   "source": [
    "congressional_df[\"geometry_name\"] = (\n",
    "    \"country_usa-state_\" + congressional_df.STATE + \"-district_cd\" + congressional_df.CD\n",
    ")"
   ]
  },
  {
   "cell_type": "code",
   "execution_count": 31,
   "id": "694b8e8b-fc38-441e-85a3-7704e6ccc259",
   "metadata": {
    "execution": {
     "iopub.execute_input": "2024-11-20T19:54:28.751974Z",
     "iopub.status.busy": "2024-11-20T19:54:28.750743Z",
     "iopub.status.idle": "2024-11-20T19:54:28.792889Z",
     "shell.execute_reply": "2024-11-20T19:54:28.792287Z",
     "shell.execute_reply.started": "2024-11-20T19:54:28.751878Z"
    }
   },
   "outputs": [
    {
     "data": {
      "text/html": [
       "<div>\n",
       "<style scoped>\n",
       "    .dataframe tbody tr th:only-of-type {\n",
       "        vertical-align: middle;\n",
       "    }\n",
       "\n",
       "    .dataframe tbody tr th {\n",
       "        vertical-align: top;\n",
       "    }\n",
       "\n",
       "    .dataframe thead th {\n",
       "        text-align: right;\n",
       "    }\n",
       "</style>\n",
       "<table border=\"1\" class=\"dataframe\">\n",
       "  <thead>\n",
       "    <tr style=\"text-align: right;\">\n",
       "      <th></th>\n",
       "      <th>GEO_ID</th>\n",
       "      <th>STATE</th>\n",
       "      <th>CD</th>\n",
       "      <th>NAME</th>\n",
       "      <th>LSAD</th>\n",
       "      <th>CENSUSAREA</th>\n",
       "      <th>json_index</th>\n",
       "      <th>lat</th>\n",
       "      <th>lon</th>\n",
       "      <th>geometry_name</th>\n",
       "    </tr>\n",
       "  </thead>\n",
       "  <tbody>\n",
       "    <tr>\n",
       "      <th>0</th>\n",
       "      <td>5001100US0101</td>\n",
       "      <td>01</td>\n",
       "      <td>01</td>\n",
       "      <td>1</td>\n",
       "      <td>CD</td>\n",
       "      <td>6304.328</td>\n",
       "      <td>0</td>\n",
       "      <td>30.28364</td>\n",
       "      <td>-88.124658</td>\n",
       "      <td>country_usa-state_01-district_cd01</td>\n",
       "    </tr>\n",
       "    <tr>\n",
       "      <th>0</th>\n",
       "      <td>5001100US0101</td>\n",
       "      <td>01</td>\n",
       "      <td>01</td>\n",
       "      <td>1</td>\n",
       "      <td>CD</td>\n",
       "      <td>6304.328</td>\n",
       "      <td>0</td>\n",
       "      <td>30.259864</td>\n",
       "      <td>-88.086812</td>\n",
       "      <td>country_usa-state_01-district_cd01</td>\n",
       "    </tr>\n",
       "    <tr>\n",
       "      <th>0</th>\n",
       "      <td>5001100US0101</td>\n",
       "      <td>01</td>\n",
       "      <td>01</td>\n",
       "      <td>1</td>\n",
       "      <td>CD</td>\n",
       "      <td>6304.328</td>\n",
       "      <td>0</td>\n",
       "      <td>30.249119</td>\n",
       "      <td>-88.074854</td>\n",
       "      <td>country_usa-state_01-district_cd01</td>\n",
       "    </tr>\n",
       "    <tr>\n",
       "      <th>0</th>\n",
       "      <td>5001100US0101</td>\n",
       "      <td>01</td>\n",
       "      <td>01</td>\n",
       "      <td>1</td>\n",
       "      <td>CD</td>\n",
       "      <td>6304.328</td>\n",
       "      <td>0</td>\n",
       "      <td>30.246139</td>\n",
       "      <td>-88.075856</td>\n",
       "      <td>country_usa-state_01-district_cd01</td>\n",
       "    </tr>\n",
       "    <tr>\n",
       "      <th>0</th>\n",
       "      <td>5001100US0101</td>\n",
       "      <td>01</td>\n",
       "      <td>01</td>\n",
       "      <td>1</td>\n",
       "      <td>CD</td>\n",
       "      <td>6304.328</td>\n",
       "      <td>0</td>\n",
       "      <td>30.245039</td>\n",
       "      <td>-88.078786</td>\n",
       "      <td>country_usa-state_01-district_cd01</td>\n",
       "    </tr>\n",
       "  </tbody>\n",
       "</table>\n",
       "</div>"
      ],
      "text/plain": [
       "          GEO_ID STATE  CD NAME LSAD CENSUSAREA json_index        lat  \\\n",
       "0  5001100US0101    01  01    1   CD   6304.328          0   30.28364   \n",
       "0  5001100US0101    01  01    1   CD   6304.328          0  30.259864   \n",
       "0  5001100US0101    01  01    1   CD   6304.328          0  30.249119   \n",
       "0  5001100US0101    01  01    1   CD   6304.328          0  30.246139   \n",
       "0  5001100US0101    01  01    1   CD   6304.328          0  30.245039   \n",
       "\n",
       "         lon                       geometry_name  \n",
       "0 -88.124658  country_usa-state_01-district_cd01  \n",
       "0 -88.086812  country_usa-state_01-district_cd01  \n",
       "0 -88.074854  country_usa-state_01-district_cd01  \n",
       "0 -88.075856  country_usa-state_01-district_cd01  \n",
       "0 -88.078786  country_usa-state_01-district_cd01  "
      ]
     },
     "execution_count": 31,
     "metadata": {},
     "output_type": "execute_result"
    }
   ],
   "source": [
    "congressional_df.head()"
   ]
  },
  {
   "cell_type": "code",
   "execution_count": 38,
   "id": "04ad4fa2-488b-4046-ae60-39a3de831cd6",
   "metadata": {
    "execution": {
     "iopub.execute_input": "2024-11-20T19:59:31.064712Z",
     "iopub.status.busy": "2024-11-20T19:59:31.063572Z",
     "iopub.status.idle": "2024-11-20T19:59:38.799347Z",
     "shell.execute_reply": "2024-11-20T19:59:38.798993Z",
     "shell.execute_reply.started": "2024-11-20T19:59:31.064631Z"
    }
   },
   "outputs": [
    {
     "name": "stdout",
     "output_type": "stream",
     "text": [
      "i = 0\n",
      "i = 100\n"
     ]
    }
   ],
   "source": [
    "new_summary = data_generation.geometry.load_congresional_district_points(limit=101)"
   ]
  },
  {
   "cell_type": "code",
   "execution_count": 39,
   "id": "5c8f84d0-c77b-4a4c-a1d2-df1d2d1b88cd",
   "metadata": {
    "execution": {
     "iopub.execute_input": "2024-11-20T19:59:45.984779Z",
     "iopub.status.busy": "2024-11-20T19:59:45.983558Z",
     "iopub.status.idle": "2024-11-20T19:59:46.018260Z",
     "shell.execute_reply": "2024-11-20T19:59:46.017828Z",
     "shell.execute_reply.started": "2024-11-20T19:59:45.984683Z"
    }
   },
   "outputs": [
    {
     "data": {
      "text/html": [
       "<div>\n",
       "<style scoped>\n",
       "    .dataframe tbody tr th:only-of-type {\n",
       "        vertical-align: middle;\n",
       "    }\n",
       "\n",
       "    .dataframe tbody tr th {\n",
       "        vertical-align: top;\n",
       "    }\n",
       "\n",
       "    .dataframe thead th {\n",
       "        text-align: right;\n",
       "    }\n",
       "</style>\n",
       "<table border=\"1\" class=\"dataframe\">\n",
       "  <thead>\n",
       "    <tr style=\"text-align: right;\">\n",
       "      <th></th>\n",
       "      <th>lat</th>\n",
       "      <th>lon</th>\n",
       "      <th>json_index</th>\n",
       "    </tr>\n",
       "    <tr>\n",
       "      <th>geometry_name</th>\n",
       "      <th></th>\n",
       "      <th></th>\n",
       "      <th></th>\n",
       "    </tr>\n",
       "  </thead>\n",
       "  <tbody>\n",
       "    <tr>\n",
       "      <th>country_usa-state_01-district_cd01</th>\n",
       "      <td>30.780483</td>\n",
       "      <td>-87.816111</td>\n",
       "      <td>0</td>\n",
       "    </tr>\n",
       "    <tr>\n",
       "      <th>country_usa-state_04-district_cd01</th>\n",
       "      <td>35.68314</td>\n",
       "      <td>-111.510317</td>\n",
       "      <td>1</td>\n",
       "    </tr>\n",
       "    <tr>\n",
       "      <th>country_usa-state_04-district_cd02</th>\n",
       "      <td>35.894638</td>\n",
       "      <td>-112.356198</td>\n",
       "      <td>2</td>\n",
       "    </tr>\n",
       "    <tr>\n",
       "      <th>country_usa-state_04-district_cd03</th>\n",
       "      <td>33.801145</td>\n",
       "      <td>-112.059257</td>\n",
       "      <td>3</td>\n",
       "    </tr>\n",
       "    <tr>\n",
       "      <th>country_usa-state_04-district_cd04</th>\n",
       "      <td>33.408975</td>\n",
       "      <td>-112.131399</td>\n",
       "      <td>4</td>\n",
       "    </tr>\n",
       "    <tr>\n",
       "      <th>...</th>\n",
       "      <td>...</td>\n",
       "      <td>...</td>\n",
       "      <td>...</td>\n",
       "    </tr>\n",
       "    <tr>\n",
       "      <th>country_usa-state_06-district_cd44</th>\n",
       "      <td>33.859867</td>\n",
       "      <td>-117.384231</td>\n",
       "      <td>96</td>\n",
       "    </tr>\n",
       "    <tr>\n",
       "      <th>country_usa-state_08-district_cd05</th>\n",
       "      <td>39.064479</td>\n",
       "      <td>-105.741029</td>\n",
       "      <td>97</td>\n",
       "    </tr>\n",
       "    <tr>\n",
       "      <th>country_usa-state_09-district_cd01</th>\n",
       "      <td>41.802985</td>\n",
       "      <td>-72.867466</td>\n",
       "      <td>98</td>\n",
       "    </tr>\n",
       "    <tr>\n",
       "      <th>country_usa-state_09-district_cd02</th>\n",
       "      <td>41.471472</td>\n",
       "      <td>-72.289126</td>\n",
       "      <td>99</td>\n",
       "    </tr>\n",
       "    <tr>\n",
       "      <th>country_usa-state_09-district_cd04</th>\n",
       "      <td>41.164818</td>\n",
       "      <td>-73.411982</td>\n",
       "      <td>100</td>\n",
       "    </tr>\n",
       "  </tbody>\n",
       "</table>\n",
       "<p>101 rows × 3 columns</p>\n",
       "</div>"
      ],
      "text/plain": [
       "                                          lat         lon json_index\n",
       "geometry_name                                                       \n",
       "country_usa-state_01-district_cd01  30.780483  -87.816111          0\n",
       "country_usa-state_04-district_cd01   35.68314 -111.510317          1\n",
       "country_usa-state_04-district_cd02  35.894638 -112.356198          2\n",
       "country_usa-state_04-district_cd03  33.801145 -112.059257          3\n",
       "country_usa-state_04-district_cd04  33.408975 -112.131399          4\n",
       "...                                       ...         ...        ...\n",
       "country_usa-state_06-district_cd44  33.859867 -117.384231         96\n",
       "country_usa-state_08-district_cd05  39.064479 -105.741029         97\n",
       "country_usa-state_09-district_cd01  41.802985  -72.867466         98\n",
       "country_usa-state_09-district_cd02  41.471472  -72.289126         99\n",
       "country_usa-state_09-district_cd04  41.164818  -73.411982        100\n",
       "\n",
       "[101 rows x 3 columns]"
      ]
     },
     "execution_count": 39,
     "metadata": {},
     "output_type": "execute_result"
    }
   ],
   "source": [
    "new_summary"
   ]
  },
  {
   "cell_type": "code",
   "execution_count": 42,
   "id": "ddcb0dc0-5722-497d-b1f7-24556058bf98",
   "metadata": {
    "execution": {
     "iopub.execute_input": "2024-11-20T20:01:52.967759Z",
     "iopub.status.busy": "2024-11-20T20:01:52.966577Z",
     "iopub.status.idle": "2024-11-20T20:02:15.865795Z",
     "shell.execute_reply": "2024-11-20T20:02:15.865438Z",
     "shell.execute_reply.started": "2024-11-20T20:01:52.967678Z"
    }
   },
   "outputs": [
    {
     "name": "stdout",
     "output_type": "stream",
     "text": [
      "i = 0\n",
      "i = 100\n",
      "i = 200\n",
      "i = 300\n",
      "i = 400\n",
      "Wrote to congressional_geometry_v2.csv\n"
     ]
    }
   ],
   "source": [
    "new_summary = data_generation.geometry.load_congresional_district_points(\n",
    "    file_to_save=\"congressional_geometry_v2.csv\"\n",
    ")"
   ]
  },
  {
   "cell_type": "code",
   "execution_count": 43,
   "id": "4c2fb3a7-1706-4643-8a75-c12278671954",
   "metadata": {
    "execution": {
     "iopub.execute_input": "2024-11-20T20:02:23.685228Z",
     "iopub.status.busy": "2024-11-20T20:02:23.684482Z",
     "iopub.status.idle": "2024-11-20T20:02:23.735516Z",
     "shell.execute_reply": "2024-11-20T20:02:23.735076Z",
     "shell.execute_reply.started": "2024-11-20T20:02:23.685183Z"
    }
   },
   "outputs": [
    {
     "data": {
      "text/html": [
       "<div>\n",
       "<style scoped>\n",
       "    .dataframe tbody tr th:only-of-type {\n",
       "        vertical-align: middle;\n",
       "    }\n",
       "\n",
       "    .dataframe tbody tr th {\n",
       "        vertical-align: top;\n",
       "    }\n",
       "\n",
       "    .dataframe thead th {\n",
       "        text-align: right;\n",
       "    }\n",
       "</style>\n",
       "<table border=\"1\" class=\"dataframe\">\n",
       "  <thead>\n",
       "    <tr style=\"text-align: right;\">\n",
       "      <th></th>\n",
       "      <th>lat</th>\n",
       "      <th>lon</th>\n",
       "      <th>json_index</th>\n",
       "    </tr>\n",
       "    <tr>\n",
       "      <th>geometry_name</th>\n",
       "      <th></th>\n",
       "      <th></th>\n",
       "      <th></th>\n",
       "    </tr>\n",
       "  </thead>\n",
       "  <tbody>\n",
       "    <tr>\n",
       "      <th>country_usa-state_01-district_cd01</th>\n",
       "      <td>30.780483</td>\n",
       "      <td>-87.816111</td>\n",
       "      <td>0</td>\n",
       "    </tr>\n",
       "    <tr>\n",
       "      <th>country_usa-state_04-district_cd01</th>\n",
       "      <td>35.68314</td>\n",
       "      <td>-111.510317</td>\n",
       "      <td>1</td>\n",
       "    </tr>\n",
       "    <tr>\n",
       "      <th>country_usa-state_04-district_cd02</th>\n",
       "      <td>35.894638</td>\n",
       "      <td>-112.356198</td>\n",
       "      <td>2</td>\n",
       "    </tr>\n",
       "    <tr>\n",
       "      <th>country_usa-state_04-district_cd03</th>\n",
       "      <td>33.801145</td>\n",
       "      <td>-112.059257</td>\n",
       "      <td>3</td>\n",
       "    </tr>\n",
       "    <tr>\n",
       "      <th>country_usa-state_04-district_cd04</th>\n",
       "      <td>33.408975</td>\n",
       "      <td>-112.131399</td>\n",
       "      <td>4</td>\n",
       "    </tr>\n",
       "    <tr>\n",
       "      <th>...</th>\n",
       "      <td>...</td>\n",
       "      <td>...</td>\n",
       "      <td>...</td>\n",
       "    </tr>\n",
       "    <tr>\n",
       "      <th>country_usa-state_48-district_cd11</th>\n",
       "      <td>31.630838</td>\n",
       "      <td>-100.868844</td>\n",
       "      <td>432</td>\n",
       "    </tr>\n",
       "    <tr>\n",
       "      <th>country_usa-state_48-district_cd17</th>\n",
       "      <td>31.091315</td>\n",
       "      <td>-96.604096</td>\n",
       "      <td>433</td>\n",
       "    </tr>\n",
       "    <tr>\n",
       "      <th>country_usa-state_48-district_cd19</th>\n",
       "      <td>33.459081</td>\n",
       "      <td>-101.758749</td>\n",
       "      <td>434</td>\n",
       "    </tr>\n",
       "    <tr>\n",
       "      <th>country_usa-state_22-district_cd02</th>\n",
       "      <td>30.050618</td>\n",
       "      <td>-89.79149</td>\n",
       "      <td>435</td>\n",
       "    </tr>\n",
       "    <tr>\n",
       "      <th>country_usa-state_54-district_cd01</th>\n",
       "      <td>39.654905</td>\n",
       "      <td>-80.363812</td>\n",
       "      <td>436</td>\n",
       "    </tr>\n",
       "  </tbody>\n",
       "</table>\n",
       "<p>437 rows × 3 columns</p>\n",
       "</div>"
      ],
      "text/plain": [
       "                                          lat         lon json_index\n",
       "geometry_name                                                       \n",
       "country_usa-state_01-district_cd01  30.780483  -87.816111          0\n",
       "country_usa-state_04-district_cd01   35.68314 -111.510317          1\n",
       "country_usa-state_04-district_cd02  35.894638 -112.356198          2\n",
       "country_usa-state_04-district_cd03  33.801145 -112.059257          3\n",
       "country_usa-state_04-district_cd04  33.408975 -112.131399          4\n",
       "...                                       ...         ...        ...\n",
       "country_usa-state_48-district_cd11  31.630838 -100.868844        432\n",
       "country_usa-state_48-district_cd17  31.091315  -96.604096        433\n",
       "country_usa-state_48-district_cd19  33.459081 -101.758749        434\n",
       "country_usa-state_22-district_cd02  30.050618   -89.79149        435\n",
       "country_usa-state_54-district_cd01  39.654905  -80.363812        436\n",
       "\n",
       "[437 rows x 3 columns]"
      ]
     },
     "execution_count": 43,
     "metadata": {},
     "output_type": "execute_result"
    }
   ],
   "source": [
    "new_summary"
   ]
  },
  {
   "cell_type": "code",
   "execution_count": null,
   "id": "af511f5c-4c33-4154-84e8-513757a64b0d",
   "metadata": {},
   "outputs": [],
   "source": []
  }
 ],
 "metadata": {
  "kernelspec": {
   "display_name": "Python 3 (ipykernel)",
   "language": "python",
   "name": "python3"
  },
  "language_info": {
   "codemirror_mode": {
    "name": "ipython",
    "version": 3
   },
   "file_extension": ".py",
   "mimetype": "text/x-python",
   "name": "python",
   "nbconvert_exporter": "python",
   "pygments_lexer": "ipython3",
   "version": "3.9.20"
  },
  "widgets": {
   "application/vnd.jupyter.widget-state+json": {
    "state": {},
    "version_major": 2,
    "version_minor": 0
   }
  }
 },
 "nbformat": 4,
 "nbformat_minor": 5
}
